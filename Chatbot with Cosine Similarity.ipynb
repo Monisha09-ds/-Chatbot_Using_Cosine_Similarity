{
 "cells": [
  {
   "cell_type": "code",
   "execution_count": 1,
   "id": "ed6ac40e",
   "metadata": {},
   "outputs": [],
   "source": [
    "import pandas as pd\n",
    "df = pd.read_csv(\"test.csv\", encoding='unicode_escape')"
   ]
  },
  {
   "cell_type": "code",
   "execution_count": 2,
   "id": "99d6eb56",
   "metadata": {},
   "outputs": [
    {
     "data": {
      "text/html": [
       "<div>\n",
       "<style scoped>\n",
       "    .dataframe tbody tr th:only-of-type {\n",
       "        vertical-align: middle;\n",
       "    }\n",
       "\n",
       "    .dataframe tbody tr th {\n",
       "        vertical-align: top;\n",
       "    }\n",
       "\n",
       "    .dataframe thead th {\n",
       "        text-align: right;\n",
       "    }\n",
       "</style>\n",
       "<table border=\"1\" class=\"dataframe\">\n",
       "  <thead>\n",
       "    <tr style=\"text-align: right;\">\n",
       "      <th></th>\n",
       "      <th>Questions</th>\n",
       "      <th>Answers</th>\n",
       "    </tr>\n",
       "  </thead>\n",
       "  <tbody>\n",
       "    <tr>\n",
       "      <th>0</th>\n",
       "      <td>What is data analytics?</td>\n",
       "      <td>Data analytics is the process of examining raw...</td>\n",
       "    </tr>\n",
       "    <tr>\n",
       "      <th>1</th>\n",
       "      <td>What are the main methods used in data analytics?</td>\n",
       "      <td>Data analytics encompasses various methods suc...</td>\n",
       "    </tr>\n",
       "    <tr>\n",
       "      <th>2</th>\n",
       "      <td>How is data analytics used in business?</td>\n",
       "      <td>Data analytics is widely used in business to g...</td>\n",
       "    </tr>\n",
       "    <tr>\n",
       "      <th>3</th>\n",
       "      <td>What are the key steps in the data analytics p...</td>\n",
       "      <td>The data analytics process typically involves ...</td>\n",
       "    </tr>\n",
       "    <tr>\n",
       "      <th>4</th>\n",
       "      <td>What is the role of machine learning in data a...</td>\n",
       "      <td>Machine learning plays a crucial role in data ...</td>\n",
       "    </tr>\n",
       "  </tbody>\n",
       "</table>\n",
       "</div>"
      ],
      "text/plain": [
       "                                           Questions  \\\n",
       "0                            What is data analytics?   \n",
       "1  What are the main methods used in data analytics?   \n",
       "2            How is data analytics used in business?   \n",
       "3  What are the key steps in the data analytics p...   \n",
       "4  What is the role of machine learning in data a...   \n",
       "\n",
       "                                             Answers  \n",
       "0  Data analytics is the process of examining raw...  \n",
       "1  Data analytics encompasses various methods suc...  \n",
       "2  Data analytics is widely used in business to g...  \n",
       "3  The data analytics process typically involves ...  \n",
       "4  Machine learning plays a crucial role in data ...  "
      ]
     },
     "execution_count": 2,
     "metadata": {},
     "output_type": "execute_result"
    }
   ],
   "source": [
    "df.head()"
   ]
  },
  {
   "cell_type": "code",
   "execution_count": 3,
   "id": "195b367e",
   "metadata": {},
   "outputs": [],
   "source": [
    "ques_list = df['Questions'].tolist()\n",
    "ans_list = df['Answers'].tolist()"
   ]
  },
  {
   "cell_type": "code",
   "execution_count": 4,
   "id": "186e1603",
   "metadata": {},
   "outputs": [],
   "source": [
    "import numpy as np\n",
    "from sklearn.feature_extraction.text import TfidfVectorizer\n",
    "from sklearn.metrics.pairwise import cosine_similarity"
   ]
  },
  {
   "cell_type": "code",
   "execution_count": 5,
   "id": "753a2894",
   "metadata": {},
   "outputs": [],
   "source": [
    "import nltk"
   ]
  },
  {
   "cell_type": "code",
   "execution_count": 6,
   "id": "3f291cf8",
   "metadata": {},
   "outputs": [
    {
     "name": "stderr",
     "output_type": "stream",
     "text": [
      "[nltk_data] Downloading package punkt to\n",
      "[nltk_data]     C:\\Users\\ASUS\\AppData\\Roaming\\nltk_data...\n",
      "[nltk_data]   Package punkt is already up-to-date!\n",
      "[nltk_data] Downloading package wordnet to\n",
      "[nltk_data]     C:\\Users\\ASUS\\AppData\\Roaming\\nltk_data...\n",
      "[nltk_data]   Package wordnet is already up-to-date!\n",
      "[nltk_data] Downloading package stopwords to\n",
      "[nltk_data]     C:\\Users\\ASUS\\AppData\\Roaming\\nltk_data...\n",
      "[nltk_data]   Package stopwords is already up-to-date!\n"
     ]
    },
    {
     "data": {
      "text/plain": [
       "True"
      ]
     },
     "execution_count": 6,
     "metadata": {},
     "output_type": "execute_result"
    }
   ],
   "source": [
    "nltk.download('punkt')\n",
    "nltk.download('wordnet')\n",
    "nltk.download('stopwords')\n"
   ]
  },
  {
   "cell_type": "code",
   "execution_count": 7,
   "id": "8f7779da",
   "metadata": {},
   "outputs": [],
   "source": [
    "from nltk.stem import WordNetLemmatizer,PorterStemmer\n",
    "from nltk.corpus import stopwords\n",
    "import re"
   ]
  },
  {
   "cell_type": "code",
   "execution_count": 8,
   "id": "0adb5462",
   "metadata": {},
   "outputs": [],
   "source": [
    "def preprocess_text(text):\n",
    "    lemmatizer = WordNetLemmatizer()\n",
    "    stemmer = PorterStemmer()\n",
    "    text = re.sub(r'[^\\w\\s]','',text)\n",
    "    tokens = nltk.word_tokenize(text.lower())\n",
    "    tokens = [token for token in tokens if token not in stopwords.words('english')]\n",
    "    lemmatized_tokens = [lemmatizer.lemmatize(token) for token in tokens]\n",
    "    stemmed_tokens = [stemmer.stem(token) for token in lemmatized_tokens]\n",
    "    return ' '.join(stemmed_tokens)"
   ]
  },
  {
   "cell_type": "code",
   "execution_count": 9,
   "id": "3b9d8609",
   "metadata": {},
   "outputs": [],
   "source": [
    "def preprocess_with_stopwords(text):\n",
    "    lemmatizer = WordNetLemmatizer()\n",
    "    stemmer = PorterStemmer()\n",
    "    text = re.sub(r'[^\\w\\s]','',text)\n",
    "    tokens = nltk.word_tokenize(text.lower())\n",
    "    tokens = [token for token in tokens if token not in stopwords.words('english')]\n",
    "    lemmatized_tokens = [lemmatizer.lemmatize(token) for token in tokens]\n",
    "    stemmed_tokens = [stemmer.stem(token) for token in lemmatized_tokens]\n",
    "    return ' '.join(stemmed_tokens)"
   ]
  },
  {
   "cell_type": "code",
   "execution_count": 10,
   "id": "fba65e1c",
   "metadata": {},
   "outputs": [],
   "source": [
    "vectorizer = TfidfVectorizer(tokenizer = nltk.word_tokenize)"
   ]
  },
  {
   "cell_type": "code",
   "execution_count": 11,
   "id": "201587a9",
   "metadata": {},
   "outputs": [],
   "source": [
    "X = vectorizer.fit_transform([preprocess_text(q) for q in ques_list])"
   ]
  },
  {
   "cell_type": "code",
   "execution_count": 12,
   "id": "502d958a",
   "metadata": {},
   "outputs": [
    {
     "data": {
      "text/plain": [
       "<8x18 sparse matrix of type '<class 'numpy.float64'>'\n",
       "\twith 33 stored elements in Compressed Sparse Row format>"
      ]
     },
     "execution_count": 12,
     "metadata": {},
     "output_type": "execute_result"
    }
   ],
   "source": [
    "X"
   ]
  },
  {
   "cell_type": "code",
   "execution_count": 13,
   "id": "1dc91556",
   "metadata": {},
   "outputs": [],
   "source": [
    "def get_responses(text):\n",
    "    processed_text = preprocess_with_stopwords(text)\n",
    "    print(\"Processed_Text : \",processed_text)\n",
    "    vectorized_text = vectorizer.transform([processed_text])\n",
    "    similarities = cosine_similarity(vectorized_text,X)\n",
    "    print(\"similarities : \",similarities)\n",
    "    max_similarity = np.max(similarities)\n",
    "    print(\"max_similarity : \",max_similarity)\n",
    "    \n",
    "    if (max_similarity >0.6):\n",
    "        high_similarity_ques =[q for q, s in zip(ques_list, similarities[0]) if s > 0.6]\n",
    "        print(\"high_similarity_questions : \",high_similarity_ques)\n",
    "        \n",
    "        target_ans =[]\n",
    "        for q in high_similarity_ques:\n",
    "            q_index = ques_list.index(q)\n",
    "            target_ans.append(ans_list[q_index])\n",
    "        print(target_ans)\n",
    "        \n",
    "        \n",
    "        Z = vectorizer.fit_transform([preprocess_with_stopwords(q) for q in high_similarity_ques])\n",
    "        processed_text_with_stopwords = preprocess_with_stopwords(text)\n",
    "        print(\"processed_text_with_stopwords : \",processed_text_with_stopwords)\n",
    "        vectorized_text_with_stopwords = vectorizer.transform([processed_text_with_stopwords])\n",
    "        final_similarities = cosine_similarity(vectorized_text_with_stopwords)\n",
    "        closest = np.argmax(final_similarities)\n",
    "        return target_ans[closest]\n",
    "    \n",
    "    else :\n",
    "        return \"Sorry I am unable to ans this question\"\n",
    "    "
   ]
  },
  {
   "cell_type": "code",
   "execution_count": 14,
   "id": "5c506bec",
   "metadata": {},
   "outputs": [
    {
     "name": "stdout",
     "output_type": "stream",
     "text": [
      "Processed_Text :  sheikh hasina\n",
      "similarities :  [[0. 0. 0. 0. 0. 0. 0. 0.]]\n",
      "max_similarity :  0.0\n"
     ]
    },
    {
     "data": {
      "text/plain": [
       "'Sorry I am unable to ans this question'"
      ]
     },
     "execution_count": 14,
     "metadata": {},
     "output_type": "execute_result"
    }
   ],
   "source": [
    "get_responses(\"Who is Sheikh Hasina?\")"
   ]
  },
  {
   "cell_type": "code",
   "execution_count": 15,
   "id": "2b0932f6",
   "metadata": {},
   "outputs": [
    {
     "data": {
      "text/plain": [
       "['What is data analytics?',\n",
       " 'What are the main methods used in data analytics?',\n",
       " 'How is data analytics used in business?',\n",
       " 'What are the key steps in the data analytics process?',\n",
       " 'What is the role of machine learning in data analytics?',\n",
       " 'What is the importance of data quality in data analytics?',\n",
       " 'What are the ethical considerations in data analytics?',\n",
       " 'What are some common challenges in data analytics?']"
      ]
     },
     "execution_count": 15,
     "metadata": {},
     "output_type": "execute_result"
    }
   ],
   "source": [
    "ques_list"
   ]
  },
  {
   "cell_type": "code",
   "execution_count": 16,
   "id": "5a961b02",
   "metadata": {},
   "outputs": [
    {
     "name": "stdout",
     "output_type": "stream",
     "text": [
      "Processed_Text :  machin learn\n",
      "similarities :  [[0.         0.         0.         0.         0.77627227 0.\n",
      "  0.         0.        ]]\n",
      "max_similarity :  0.7762722680124386\n",
      "high_similarity_questions :  ['What is the role of machine learning in data analytics?']\n",
      "['Machine learning plays a crucial role in data analytics by enabling the development of algorithms that can automatically learn from data and make predictions or take actions without being explicitly programmed. It is used for tasks such as classification, regression, clustering, and anomaly detection.']\n",
      "processed_text_with_stopwords :  machin learn\n"
     ]
    },
    {
     "data": {
      "text/plain": [
       "'Machine learning plays a crucial role in data analytics by enabling the development of algorithms that can automatically learn from data and make predictions or take actions without being explicitly programmed. It is used for tasks such as classification, regression, clustering, and anomaly detection.'"
      ]
     },
     "execution_count": 16,
     "metadata": {},
     "output_type": "execute_result"
    }
   ],
   "source": [
    "get_responses(\"What is  machine learning \")"
   ]
  },
  {
   "cell_type": "code",
   "execution_count": 18,
   "id": "481e7b19",
   "metadata": {},
   "outputs": [],
   "source": [
    "# from gingerit.gingerit import GingerIt\n",
    "\n",
    "# text = 'What is Data Anlytics'\n",
    "\n",
    "# parser = GingerIt()\n",
    "# corrected_text = parser.parse(text)\n",
    "\n",
    "# print(corrected_text['result'])"
   ]
  },
  {
   "cell_type": "code",
   "execution_count": null,
   "id": "e21c33c0",
   "metadata": {},
   "outputs": [],
   "source": []
  }
 ],
 "metadata": {
  "kernelspec": {
   "display_name": "Python 3",
   "language": "python",
   "name": "python3"
  },
  "language_info": {
   "codemirror_mode": {
    "name": "ipython",
    "version": 3
   },
   "file_extension": ".py",
   "mimetype": "text/x-python",
   "name": "python",
   "nbconvert_exporter": "python",
   "pygments_lexer": "ipython3",
   "version": "3.8.8"
  }
 },
 "nbformat": 4,
 "nbformat_minor": 5
}
